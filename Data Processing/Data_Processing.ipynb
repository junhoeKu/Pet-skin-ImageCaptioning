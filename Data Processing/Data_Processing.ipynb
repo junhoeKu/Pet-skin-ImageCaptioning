{
 "cells": [
  {
   "cell_type": "markdown",
   "metadata": {},
   "source": [
    "# Import"
   ]
  },
  {
   "cell_type": "code",
   "execution_count": 2,
   "metadata": {},
   "outputs": [],
   "source": [
    "import pandas as pd\n",
    "import re\n",
    "from tqdm import tqdm\n",
    "import emoji\n",
    "\n",
    "tqdm.pandas()\n",
    "ear = pd.read_csv('피부귀.csv').iloc[:,1:]\n",
    "vet = pd.read_csv('수의사답변.csv')\n",
    "vet['images'] = vet['images'].apply(lambda x : x.split('?')[0])\n",
    "df = pd.read_csv('df.csv')\n",
    "df['images'] = df['images'].apply(lambda x : x.split('?')[0])"
   ]
  },
  {
   "cell_type": "code",
   "execution_count": 3,
   "metadata": {},
   "outputs": [],
   "source": [
    "## 데이터프레임 몇 자까지 볼 건지 결정하는 코드\n",
    "pd.set_option('display.max_colwidth', 500)"
   ]
  },
  {
   "cell_type": "markdown",
   "metadata": {},
   "source": [
    "## 1. Preprocessing (Lifet)"
   ]
  },
  {
   "cell_type": "code",
   "execution_count": 4,
   "metadata": {},
   "outputs": [],
   "source": [
    "## 질문, 답변 중 특정 키워드의 문장 제거\n",
    "ear['question'] = ear['question'].apply(lambda x: '\\n'.join([sentence for sentence in x.split('\\n') if '감사' not in sentence]))\n",
    "ear['question'] = ear['question'].apply(lambda x: '\\n'.join([sentence for sentence in x.split('\\n') if '안녕' not in sentence]))\n",
    "ear['question'] = ear['question'].apply(lambda x: '\\n'.join([sentence for sentence in x.split('\\n') if '네!!' not in sentence]))\n",
    "ear['answer'] = ear['answer'].apply(lambda x: '\\n'.join([sentence for sentence in x.split('\\n') if '종료' not in sentence]))\n",
    "ear['answer'] = ear['answer'].apply(lambda x: '\\n'.join([sentence for sentence in x.split('\\n') if '감사' not in sentence]))\n",
    "ear['answer'] = ear['answer'].apply(lambda x: '\\n'.join([sentence for sentence in x.split('\\n') if '궁금' not in sentence]))\n",
    "ear['answer'] = ear['answer'].apply(lambda x: '\\n'.join([sentence for sentence in x.split('\\n') if '라이펫' not in sentence]))\n",
    "ear['answer'] = ear['answer'].apply(lambda x: '\\n'.join([sentence for sentence in x.split('\\n') if ':)' not in sentence]))\n",
    "ear['answer'] = ear['answer'].apply(lambda x: '\\n'.join([sentence for sentence in x.split('\\n') if '그럼요!' not in sentence]))\n",
    "ear['answer'] = ear['answer'].apply(lambda x: '\\n'.join([sentence for sentence in x.split('\\n') if '몽이가' not in sentence]))\n",
    "ear['answer'] = ear['answer'].apply(lambda x: '\\n'.join([sentence for sentence in x.split('\\n') if '네 ' not in sentence]))\n",
    "ear['answer'] = ear['answer'].apply(lambda x: '\\n'.join([sentence for sentence in x.split('\\n') if '미용사에게 맡기는 것을' not in sentence]))\n",
    "ear['answer'] = ear['answer'].apply(lambda x: '\\n'.join([sentence for sentence in x.split('\\n') if '그럴 가능성이 높아보' not in sentence]))\n",
    "ear['answer'] = ear['answer'].apply(lambda x: '\\n'.join([sentence for sentence in x.split('\\n') if '다행입니다!' not in sentence]))\n",
    "ear['answer'] = ear['answer'].apply(lambda x: '\\n'.join([sentence for sentence in x.split('\\n') if '그렇다면 별도의' not in sentence]))\n",
    "ear['answer'] = ear['answer'].apply(lambda x: '\\n'.join([sentence for sentence in x.split('\\n') if '사진이 있으실까요' not in sentence]))\n",
    "ear['answer'] = ear['answer'].apply(lambda x: '\\n'.join([sentence for sentence in x.split('\\n') if '맞습니다' not in sentence]))\n",
    "ear['answer'] = ear['answer'].apply(lambda x: '\\n'.join([sentence for sentence in x.split('\\n') if '후 그에 대한 치료가 필요' not in sentence]))\n",
    "ear['answer'] = ear['answer'].apply(lambda x: '\\n'.join([sentence for sentence in x.split('\\n') if '대부분은 다시 자랍' not in sentence]))\n",
    "ear['answer'] = ear['answer'].apply(lambda x: '\\n'.join([sentence for sentence in x.split('\\n') if '사진 보내주시면' not in sentence]))\n",
    "ear['answer'] = ear['answer'].apply(lambda x: '\\n'.join([sentence for sentence in x.split('\\n') if '네! 종류가 그렇게 ' not in sentence]))\n",
    "ear['answer'] = ear['answer'].apply(lambda x: '\\n'.join([sentence for sentence in x.split('\\n') if '털빠짐, 각질, 가려움 증상이 있나요' not in sentence]))\n",
    "ear['answer'] = ear['answer'].apply(lambda x: '\\n'.join([sentence for sentence in x.split('\\n') if '사진 첨부해주시면' not in sentence]))\n",
    "ear['answer'] = ear['answer'].apply(lambda x: '\\n'.join([sentence for sentence in x.split('\\n') if '사진을 보내주시면' not in sentence]))\n",
    "ear['answer'] = ear['answer'].apply(lambda x: '\\n'.join([sentence for sentence in x.split('\\n') if '다른 증상은 없을가요?' not in sentence]))\n",
    "ear['answer'] = ear['answer'].apply(lambda x: '\\n'.join([sentence for sentence in x.split('\\n') if '또 문의주세요' not in sentence]))\n",
    "ear['answer'] = ear['answer'].apply(lambda x: '\\n'.join([sentence for sentence in x.split('\\n') if '새로운 장소를 방문한' not in sentence]))\n",
    "ear['answer'] = ear['answer'].apply(lambda x: '\\n'.join([sentence for sentence in x.split('\\n') if '다른 부위에는 ' not in sentence]))\n",
    "\n",
    "## 해외거주자 quesion 삭제\n",
    "ear = ear[~ear.question.str.contains('해외')]\n",
    "ear = ear[~ear.answer.str.contains('https')]\n",
    "ear = ear[~ear.answer.str.contains('ACTH')]\n",
    "\n",
    "## 이모지 제거 및 오타 교정\n",
    "ear['question'] = ear['question'].apply(lambda x: emoji.replace_emoji(x, replace=''))\n",
    "ear['answer'] = ear['answer'].apply(lambda x: emoji.replace_emoji(x, replace=''))\n",
    "ear['answer'] = ear['answer'].apply(lambda x: x.replace('핑요합니다', '필요합니다')) \n",
    "ear['answer'] = ear['answer'].apply(lambda x: x.replace('어려루나', '어려우나'))\n",
    "\n",
    "## 줄바꿈 문자, ㅠㅜ 등 감정표현 제거\n",
    "ear['question'] = ear['question'].apply(lambda x : x.replace('\\n', ' ').replace('ㅠ', '').replace('ㅜ',''))\n",
    "ear['answer'] = ear['answer'].apply(lambda x : x.replace('\\n', ' ').replace('ㅠ', '').replace('ㅜ',''))\n",
    "\n",
    "## 강아지 이름 제거\n",
    "ear['answer'] = ear['answer'].apply(lambda x : x.replace('레오가', ''))\n",
    "ear['answer'] = ear['answer'].apply(lambda x : x.replace('쫑아의', ''))\n",
    "ear['answer'] = ear['answer'].apply(lambda x : x.replace('조이의', ''))\n",
    "ear['answer'] = ear['answer'].apply(lambda x : x.replace('헬리오의', ''))\n",
    "\n",
    "## 공백 관련 전처리\n",
    "ear['answer'] = ear['answer'].str.strip() ## 양쪽 공백 제거\n",
    "ear['answer'] = ear['answer'].apply(lambda x : x.replace('.', '. ') )## 띄어쓰기가 안된 경우 띄어쓰기\n",
    "ear['answer'] = ear['answer'].str.replace(r'\\s{2,}', ' ', regex=True) ## 공백 두개 이상인 경우 하나로 줄이기"
   ]
  },
  {
   "cell_type": "markdown",
   "metadata": {},
   "source": [
    "## 2. Preprocessing ( Dog 지식in )"
   ]
  },
  {
   "cell_type": "markdown",
   "metadata": {},
   "source": [
    "#### 1) 행 제거"
   ]
  },
  {
   "cell_type": "code",
   "execution_count": 5,
   "metadata": {},
   "outputs": [],
   "source": [
    "## 이미지 url이 없는 경우 제거\n",
    "vet = vet.loc[vet.images != 'none']\n",
    "\n",
    "## 고양이, 토끼, 메추리도 있더라\n",
    "vet = vet[~vet.title.str.contains('토끼') & ~vet.question.str.contains('토끼') & ~vet.answer.str.contains('토끼')]\n",
    "vet = vet[~vet.title.str.contains('참새') & ~vet.question.str.contains('참새') & ~vet.answer.str.contains('참새')]\n",
    "vet = vet[~vet.title.str.contains('조류') & ~vet.question.str.contains('조류') & ~vet.answer.str.contains('조류')]\n",
    "vet = vet[~vet.title.str.contains('고양이') & ~vet.question.str.contains('고양이') & ~vet.answer.str.contains('고양이')]\n",
    "vet = vet[~vet.title.str.contains('메추리') & ~vet.question.str.contains('메추리') & ~vet.answer.str.contains('메추리')]\n",
    "vet = vet[~vet.title.str.contains('앵무새') & ~vet.question.str.contains('앵무새') & ~vet.answer.str.contains('앵무새')]\n",
    "vet = vet[~vet.title.str.contains('비둘기') & ~vet.question.str.contains('비둘기') & ~vet.answer.str.contains('비둘기')]\n",
    "vet = vet[~vet.title.str.contains('햄스터') & ~vet.question.str.contains('햄스터') & ~vet.answer.str.contains('햄스터')]\n",
    "vet = vet[~vet.title.str.contains('비둘기') & ~vet.question.str.contains('비둘기') & ~vet.answer.str.contains('비둘기')]\n",
    "vet = vet[~vet.title.str.contains('오소리') & ~vet.question.str.contains('오소리') & ~vet.answer.str.contains('오소리')]\n",
    "vet = vet[~vet.title.str.contains('고슴도치') & ~vet.question.str.contains('고슴도치') & ~vet.answer.str.contains('고슴도치')]\n",
    "vet = vet[~vet.title.str.contains('딱따구리') & ~vet.question.str.contains('딱따구리') & ~vet.answer.str.contains('딱따구리')]\n",
    "vet = vet[~vet.title.str.contains('직박구리') & ~vet.question.str.contains('직박구리') & ~vet.answer.str.contains('직박구리')]\n",
    "vet = vet[~vet.title.str.contains('기니피그') & ~vet.question.str.contains('기니피그') & ~vet.answer.str.contains('기니피그')]\n",
    "\n",
    "## 수의사, 메디컬센터, 의료센터, 원장 등 전문가의 의견만 남기기\n",
    "vet = vet[vet.answer.str.contains('수의사') | vet.answer.str.contains('메디컬센터') | vet.answer.str.contains('의료센터') | vet.answer.str.contains('원장')]\n",
    "\n",
    "## 혈변, 설사, 구토, 슬개골 탈구에 관련된 글 제거\n",
    "vet = vet[~vet.title.str.contains('혈변') & ~vet.title.str.contains('설사') & ~vet.title.str.contains('구토') & ~vet.title.str.contains('슬개골') & ~vet.title.str.contains('눈물') & ~vet.title.str.contains('점액변') &\n",
    "    ~vet.title.str.contains('배변') & ~vet.title.str.contains('수의과') & ~vet.title.str.contains('마운팅') & ~vet.title.str.contains('골절') & ~vet.question.str.contains('혈변') & ~vet.question.str.contains('설사') &\n",
    "    ~vet.question.str.contains('구토') & ~vet.question.str.contains('슬개골') & ~vet.question.str.contains('눈물') & ~vet.question.str.contains('점액변') & ~vet.question.str.contains('배변') & ~vet.question.str.contains('수의과') &\n",
    "    ~vet.question.str.contains('마운팅') & ~vet.question.str.contains('골절') & ~vet.answer.str.contains('혈변') & ~vet.answer.str.contains('설사') & ~vet.answer.str.contains('구토') & ~vet.answer.str.contains('슬개골') &\n",
    "    ~vet.answer.str.contains('눈물') & ~vet.answer.str.contains('점액변') & ~vet.answer.str.contains('배변') & ~vet.answer.str.contains('수의과') & ~vet.answer.str.contains('마운팅') & ~vet.answer.str.contains('골절')]\n",
    "\n",
    "## 성별, 종을 물어보는 경우 제거\n",
    "vet = vet[~vet.question.str.contains('부정교합')]\n",
    "vet = vet[~vet.question.str.contains('성별')]\n",
    "vet = vet[~vet.question.str.contains('무슨 종')]\n",
    "vet = vet[~vet.answer.str.contains('품종')]\n",
    "vet = vet[~vet.answer.str.contains('수컷')]\n",
    "vet = vet[~vet.answer.str.contains('암컷')]\n",
    "vet = vet[~vet.answer.str.contains('깃털')]\n",
    "vet = vet[~vet.answer.str.contains('홍역 키트')]\n",
    "vet = vet[~vet.answer.str.contains('항원검사')]\n",
    "vet = vet[~vet.answer.str.contains('사람치아로 보입니다')]\n",
    "vet = vet[~vet.answer.str.contains('여쭤봐도 될까요?')]\n",
    "vet = vet[~vet.answer.str.contains('axis')]\n",
    "\n",
    "## 답변에 '오손도손' 이 있는 경우에 강아지 품종 물어보는 글이 많았음\n",
    "vet = vet[~vet.answer.str.contains('오손도손')]\n",
    "vet = vet[~vet.answer.str.contains('http:')]"
   ]
  },
  {
   "cell_type": "markdown",
   "metadata": {},
   "source": [
    "#### 2) 답변 미세 조정"
   ]
  },
  {
   "cell_type": "code",
   "execution_count": 6,
   "metadata": {},
   "outputs": [],
   "source": [
    "vet.answer = vet.answer.apply(lambda x: '\\n'.join([sentence for sentence in x.split('\\n') if \"지식iN\" not in sentence]))\n",
    "vet.answer = vet.answer.apply(lambda x: '\\n'.join([sentence for sentence in x.split('\\n') if \"안녕하세요\" not in sentence]))\n",
    "vet.answer = vet.answer.apply(lambda x: '\\n'.join([sentence for sentence in x.split('\\n') if \"감사합니다\" not in sentence]))\n",
    "vet.answer = vet.answer.apply(lambda x: '\\n'.join([sentence for sentence in x.split('\\n') if \"안녕히 계세요\" not in sentence]))\n",
    "vet.answer = vet.answer.apply(lambda x: '\\n'.join([sentence for sentence in x.split('\\n') if \"정상적인 소견이니\" not in sentence]))\n",
    "vet.answer = vet.answer.apply(lambda x: '\\n'.join([sentence for sentence in x.split('\\n') if \"질문을 너무 늦게 봤네요\" not in sentence]))\n",
    "vet.answer = vet.answer.apply(lambda x: '\\n'.join([sentence for sentence in x.split('\\n') if \"은평동물병원장\" not in sentence]))\n",
    "vet.answer = vet.answer.apply(lambda x: '\\n'.join([sentence for sentence in x.split('\\n') if \"https\" not in sentence]))\n",
    "\n",
    "vet.answer = vet.answer.apply(lambda x : x.replace('\\n ', ' '))\n",
    "vet.answer = vet.answer.apply(lambda x : x.replace(' \\n', ' '))\n",
    "vet.answer = vet.answer.apply(lambda x : x.replace('\\n', ''))\n",
    "\n",
    "vet.answer = vet.answer.apply(lambda x : x.replace('*', ''))\n",
    "vet.answer = vet.answer.apply(lambda x : x.replace('-', ''))\n",
    "\n",
    "## 공백 관련 전처리\n",
    "vet['answer'] = vet['answer'].str.replace(r'([.,?!])(?=[^\\s])', r'\\1 ', regex=True) ## 문장부호 뒤에 공백 추가하기 (공백이 없는 경우)\n",
    "vet['answer'] = vet['answer'].str.replace(r'\\s([.,?!])', r'\\1', regex=True) ## 문장부호 앞에 있는 공백 제거\n",
    "vet['answer'] = vet['answer'].str.replace(r'\\s{2,}', ' ', regex=True) ## 공백이 두 개 이상인 경우 하나의 공백으로 교체\n",
    "vet['answer'] = vet['answer'].str.strip() ## 문장 양쪽의 공백 제거\n",
    "\n",
    "## 이상한 문장부호같은거 없는 클린한 답변만 남기기\n",
    "vet = vet[vet['answer'].str.contains('[a-zA-Z가-힣0-9.,?!()/~ ]')]"
   ]
  },
  {
   "cell_type": "markdown",
   "metadata": {},
   "source": [
    "#### 3) 이미지가 여러 개 있으면 첫 번째 이미지로 결정"
   ]
  },
  {
   "cell_type": "code",
   "execution_count": 7,
   "metadata": {},
   "outputs": [],
   "source": [
    "vet.images = vet.images.apply(lambda x : x.split('|')[0])\n",
    "\n",
    "## 답변 1024 이상과 20 미만인 경우는 제거\n",
    "vet['answer_length'] = vet.answer.apply(lambda x : len(x))\n",
    "vet = vet.loc[(vet.answer_length < 1024) & (vet.answer_length >= 20)]"
   ]
  },
  {
   "cell_type": "markdown",
   "metadata": {},
   "source": [
    "## 3. Preprocessing ( Cat 지식in )"
   ]
  },
  {
   "cell_type": "code",
   "execution_count": 9,
   "metadata": {},
   "outputs": [],
   "source": [
    "# df = df[['title', 'question', 'images', 'answer']]\n",
    "df.question = df.question.fillna('랄랄라')\n",
    "df.images = df.images.drop_duplicates(keep='first')\n",
    "df = df.dropna()"
   ]
  },
  {
   "cell_type": "code",
   "execution_count": 10,
   "metadata": {},
   "outputs": [
    {
     "name": "stderr",
     "output_type": "stream",
     "text": [
      "<>:65: SyntaxWarning: invalid escape sequence '\\?'\n",
      "<>:65: SyntaxWarning: invalid escape sequence '\\?'\n",
      "C:\\Users\\82109\\AppData\\Local\\Temp\\ipykernel_2740\\3045934677.py:65: SyntaxWarning: invalid escape sequence '\\?'\n",
      "  df = df.drop(df[df['answer'].str.contains('\\?')].index)\n"
     ]
    }
   ],
   "source": [
    "## 고양이 위주의 글만 추출\n",
    "df = df[(df.title.str.contains('고양이 피부')) | (df.title.str.contains('고양이 종괴')) | (df.title.str.contains('고양이 여드름')) |\n",
    "        (df.title.str.contains('고양이 두드러기')) | (df.title.str.contains('고양이 비듬')) | (df.title.str.contains('고양이 각질')) | (df.title.str.contains('반려묘')) |\n",
    "        (df.question.str.contains('고양이 피부')) | (df.question.str.contains('고양이 종괴')) | (df.question.str.contains('고양이 여드름')) |\n",
    "        (df.question.str.contains('고양이 두드러기')) | (df.question.str.contains('고양이 비듬')) | (df.question.str.contains('고양이 각질')) | (df.question.str.contains('반려묘'))]\n",
    "df = df[(~df.title.str.contains('강아지')) & (~df.title.str.contains('알레르기')) & (~df.question.str.contains('알레르기'))]\n",
    "df = df[~df.title.str.contains('강아지') & (~df.title.str.contains('알레르기')) & (~df.question.str.contains('알레르기')) & ~df.question.str.contains('강아지') & ~df.answer.str.contains('강아지')]\n",
    "\n",
    "## 이상한 답변 제거\n",
    "df = df[(~df.answer.str.contains('존재하지 않는 이미지입니다')) & (~df.answer.str.contains('반려견의 피부질환으로 인해')) & (~df.answer.str.contains('다묘 가정의 집사입니다.')) &\n",
    "   (~df.answer.str.contains('COUPANG')) & (~df.answer.str.contains('naver')) & (~df.answer.str.contains('아토피')) & (~df.answer.str.contains('co.kr')) & (~df.answer.str.contains('bit.ly')) &\n",
    "   (~df.answer.str.contains('ct'))]\n",
    "\n",
    "## [질문 요약]이 있는 경우 답변만 사용\n",
    "df.answer = df.answer.apply(lambda x: ' '.join(x.split(']')[2:]) if '[질문 요약]' in x else x)\n",
    "\n",
    "## '채택' 키워드가 포함된 경우에 해당 문장 제거\n",
    "df.answer = df.answer.apply(lambda x: '.'.join([sentence for sentence in x.split('.') if \"채택\" not in sentence]))\n",
    "df.answer = df.answer.apply(lambda x: '.'.join([sentence for sentence in x.split('.') if \"지식iN\" not in sentence]))\n",
    "df.answer = df.answer.apply(lambda x: '.'.join([sentence for sentence in x.split('.') if \"지식인\" not in sentence]))\n",
    "df.answer = df.answer.apply(lambda x: '.'.join([sentence for sentence in x.split('.') if \"안녕하세요\" not in sentence]))\n",
    "df.answer = df.answer.apply(lambda x: '.'.join([sentence for sentence in x.split('.') if \"감사합니다\" not in sentence]))\n",
    "df.answer = df.answer.apply(lambda x: '.'.join([sentence for sentence in x.split('.') if \"위에 기술한\" not in sentence]))\n",
    "df.answer = df.answer.apply(lambda x: '.'.join([sentence for sentence in x.split('.') if \"수컷\" not in sentence]))\n",
    "df.answer = df.answer.apply(lambda x: '.'.join([sentence for sentence in x.split('.') if \"NAVER\" not in sentence]))\n",
    "df.answer = df.answer.apply(lambda x: '.'.join([sentence for sentence in x.split('.') if \"http\" not in sentence]))\n",
    "df.answer = df.answer.apply(lambda x: '.'.join([sentence for sentence in x.split('.') if \"1:1\" not in sentence]))\n",
    "df.answer = df.answer.apply(lambda x: '.'.join([sentence for sentence in x.split('.') if \":)\" not in sentence]))\n",
    "\n",
    "## '#'이 있는 경우에 광고성 글이 많아서 다 삭제\n",
    "df = df[~df.answer.str.contains('#')]\n",
    "df = df[~df.answer.str.contains('vet/')]\n",
    "df = df[~df.answer.str.contains('기부')]\n",
    "\n",
    "## ㅎㅎ, ㅠㅠ, ^^ 와 같은 감정표현 제거\n",
    "df.answer = df.answer.apply(lambda x : x.replace('ㅎ', ''))\n",
    "df.answer = df.answer.apply(lambda x : x.replace('ㄷ', ''))\n",
    "df.answer = df.answer.apply(lambda x : x.replace('^', ''))\n",
    "df.answer = df.answer.apply(lambda x : x.replace('ㅠ', ''))\n",
    "df.answer = df.answer.apply(lambda x : x.replace('ㅜ', ''))\n",
    "df.answer = df.answer.apply(lambda x : x.replace('0', ''))\n",
    "df.answer = df.answer.apply(lambda x : x.replace('욥', '요'))\n",
    "df.answer = df.answer.apply(lambda x : x.replace('용', '요'))\n",
    "df.answer = df.answer.apply(lambda x : x.replace('욘', '요'))\n",
    "df.answer = df.answer.apply(lambda x : x.replace('[', ' '))\n",
    "df.answer = df.answer.apply(lambda x : x.replace('~', ''))\n",
    "df.answer = df.answer.apply(lambda x : x.replace('(? )', ''))\n",
    "\n",
    "## 오타교정\n",
    "df.answer = df.answer.apply(lambda x : x.replace('네 ', ''))\n",
    "df.answer = df.answer.apply(lambda x : x.replace('낫', '났'))\n",
    "df.answer = df.answer.apply(lambda x : x.replace('너모', '너무'))\n",
    "df.answer = df.answer.apply(lambda x : x.replace('내요', '내용'))\n",
    "df.answer = df.answer.apply(lambda x : x.replace('피료', '필요'))\n",
    "df.answer = df.answer.apply(lambda x : x.replace('을로', '으로'))\n",
    "df.answer = df.answer.apply(lambda x : x.replace('동냐', '동네'))\n",
    "df.answer = df.answer.apply(lambda x : x.replace('셧네', '셨네'))\n",
    "df.answer = df.answer.apply(lambda x : x.replace('부작요', '부작용'))\n",
    "df.answer = df.answer.apply(lambda x : x.replace('약요샴푸', '약용샴푸'))\n",
    "\n",
    "## 이상한 문장부호같은거 없는 클린한 답변만 남기기\n",
    "df = df[df['answer'].str.contains('[a-zA-Z가-힣0-9.,?!() ]')]\n",
    "\n",
    "## 답변중에 ?가 있는데 length가 짧은 경우 '젖꼭지 아닌가요?'와 같은 답변 column인데 질문하는 요상한 경우가 있어서 ?가 있으면 100자 이상인 경우만 남기기\n",
    "df = df.drop(df[df['answer'].str.contains('\\?')].index)\n",
    "\n",
    "## 답변중에 그냥 병원에 가보라는 글이 있으니 이러한 경우에 answer_length가 50 아래인 경우 제거\n",
    "df = df.drop(df[(df['answer'].str.contains('병원')) & (df['answer_length'] < 50)].index)\n",
    "\n",
    "## 공백 관련 전처리\n",
    "df['answer'] = df['answer'].str.replace(r'([.,?!])(?=[^\\s])', r'\\1 ', regex=True) ## 문장부호 뒤에 공백 추가하기 (공백이 없는 경우)\n",
    "df['answer'] = df['answer'].str.replace(r'\\s([.,?!])', r'\\1', regex=True) ## 문장부호 앞에 있는 공백 제거\n",
    "df['answer'] = df['answer'].str.replace(r'\\s{2,}', ' ', regex=True) ## 공백이 두 개 이상인 경우 하나의 공백으로 교체\n",
    "df['answer'] = df['answer'].str.strip() ## 문장 양쪽의 공백 제거"
   ]
  },
  {
   "cell_type": "code",
   "execution_count": 11,
   "metadata": {},
   "outputs": [],
   "source": [
    "## 답변 1024 이상과 30 미만인 경우는 제거, 수의사 글이 아니라서 20으로 걸러도 잘 안걸러짐\n",
    "df['answer_length'] = df.answer.apply(lambda x : len(x))\n",
    "df = df.loc[(df.answer_length < 1024) & (df.answer_length >= 50)]"
   ]
  },
  {
   "cell_type": "code",
   "execution_count": 12,
   "metadata": {},
   "outputs": [
    {
     "data": {
      "text/plain": [
       "(1393, 9)"
      ]
     },
     "execution_count": 12,
     "metadata": {},
     "output_type": "execute_result"
    }
   ],
   "source": [
    "df.shape"
   ]
  },
  {
   "cell_type": "code",
   "execution_count": 13,
   "metadata": {},
   "outputs": [
    {
     "name": "stdout",
     "output_type": "stream",
     "text": [
      "라이펫 : (110, 6)\n",
      "지식인 강아지 : (4175, 7)\n",
      "지식인 고양이 : (1393, 9)\n"
     ]
    }
   ],
   "source": [
    "print('라이펫 :', ear.shape)\n",
    "print('지식인 강아지 :', vet.shape)\n",
    "print('지식인 고양이 :', df.shape)"
   ]
  },
  {
   "cell_type": "markdown",
   "metadata": {},
   "source": [
    "## 4. Dataset Concat"
   ]
  },
  {
   "cell_type": "code",
   "execution_count": 14,
   "metadata": {},
   "outputs": [],
   "source": [
    "# 110개의 데이터, 문장 길이는 54 ~ 549\n",
    "ear.columns = ['category', 'title', 'type', 'question', 'images', 'answer']\n",
    "ear = ear[['title', 'question', 'images', 'answer']]"
   ]
  },
  {
   "cell_type": "code",
   "execution_count": 15,
   "metadata": {},
   "outputs": [],
   "source": [
    "vet = vet[['title', 'question', 'images', 'answer']]"
   ]
  },
  {
   "cell_type": "code",
   "execution_count": 16,
   "metadata": {},
   "outputs": [],
   "source": [
    "df = df[['title', 'question', 'images', 'answer']]"
   ]
  },
  {
   "cell_type": "code",
   "execution_count": 17,
   "metadata": {},
   "outputs": [],
   "source": [
    "concat_df_0815 = pd.concat([ear, vet, df])"
   ]
  },
  {
   "cell_type": "code",
   "execution_count": 18,
   "metadata": {},
   "outputs": [],
   "source": [
    "concat_df_0815 = concat_df_0815.sample(frac=1).reset_index(drop=True)"
   ]
  },
  {
   "cell_type": "code",
   "execution_count": 19,
   "metadata": {},
   "outputs": [],
   "source": [
    "concat_df_0815.to_csv('concat_df_0815.csv', index = False, encoding = 'utf-8')"
   ]
  },
  {
   "cell_type": "markdown",
   "metadata": {},
   "source": [
    "## 5. Image Labeling"
   ]
  },
  {
   "cell_type": "code",
   "execution_count": null,
   "metadata": {},
   "outputs": [],
   "source": [
    "from transformers import AutoImageProcessor, AutoModelForImageClassification\n",
    "from PIL import Image\n",
    "import requests\n",
    "import pandas as pd\n",
    "from tqdm.auto import tqdm\n",
    "import torch  # PyTorch 추가\n",
    "\n",
    "# 모델과 이미지 프로세서 로드\n",
    "processor = AutoImageProcessor.from_pretrained(\"nvidia/mit-b5\")\n",
    "model = AutoModelForImageClassification.from_pretrained(\"nvidia/mit-b5\")\n",
    "\n",
    "# CUDA 사용 가능 여부 확인 및 모델을 GPU로 이동\n",
    "device = torch.device(\"cuda\" if torch.cuda.is_available() else \"cpu\")\n",
    "print(f\"Using device: {device}\")\n",
    "model.to(device)"
   ]
  },
  {
   "cell_type": "code",
   "execution_count": null,
   "metadata": {},
   "outputs": [],
   "source": [
    "label = pd.read_csv('concat_df_0815.csv')"
   ]
  },
  {
   "cell_type": "code",
   "execution_count": null,
   "metadata": {},
   "outputs": [],
   "source": [
    "# 데이터프레임의 이미지 URL이 포함된 컬럼을 입력받아 라벨을 분류하는 함수\n",
    "def classify_image(url):\n",
    "    try:\n",
    "        # 이미지 다운로드\n",
    "        response = requests.get(url, stream=True)\n",
    "        response.raise_for_status()  # 네트워크 오류 처리\n",
    "        image = Image.open(response.raw)\n",
    "        \n",
    "        # 이미지 전처리 및 모델 입력 생성\n",
    "        inputs = processor(images=image, return_tensors=\"pt\")\n",
    "        inputs = {k: v.to(device) for k, v in inputs.items()}  # 입력 데이터를 GPU로 이동\n",
    "        \n",
    "        # 예측 수행\n",
    "        outputs = model(**inputs)\n",
    "        logits = outputs.logits\n",
    "        \n",
    "        # 예측된 클래스 인덱스\n",
    "        predicted_class_idx = logits.argmax(-1).item()\n",
    "        \n",
    "        # 예측된 라벨 반환\n",
    "        return model.config.id2label[predicted_class_idx]\n",
    "    except Exception as e:\n",
    "        print(f\"Error processing image {url}: {e}\")\n",
    "        return \"Error\"\n",
    "\n",
    "# tqdm을 사용하여 진행 상황을 시각적으로 표시\n",
    "tqdm.pandas(desc=\"Processing Images\")\n",
    "label['label'] = label['images'].progress_apply(classify_image)"
   ]
  },
  {
   "cell_type": "code",
   "execution_count": 192,
   "metadata": {},
   "outputs": [],
   "source": [
    "## 답변에서 추가 전처리\n",
    "label = label[~label.answer.str.contains('CT')] ## CT 키워드 포함된 행 제거\n",
    "label = label[~label.answer.str.contains('Xray')] ## Xray 키워드 포함된 행 제거\n",
    "label = label[~label.answer.str.contains('탈구')] ## 탈구 키워드 포함된 행 제거\n",
    "label = label[~label.answer.str.contains('혈뇨')] ## 혈뇨 키워드 포함된 행 제거\n",
    "label = label[~label.answer.str.contains('유치')] ## 유치 키워드 포함된 행 제거\n",
    "label = label[~label.answer.str.contains('치석')] ## 유치 키워드 포함된 행 제거\n",
    "label = label[~label.answer.str.contains('영구치')] ## 영구치 키워드 포함된 행 제거\n",
    "label = label[~label.answer.str.contains('방사선')] ## 방사선 키워드 포함된 행 제거\n",
    "label = label[~label.answer.str.contains('너구리')] ## 너구리 키워드 포함된 행 제거\n",
    "label = label[~label.answer.str.contains('어금니')] ## 어금니 키워드 포함된 행 제거\n",
    "label = label[~label.answer.str.contains('엑스레이')] ## 엑스레이 키워드 포함된 행 제거\n",
    "label = label[~label.answer.str.contains('3묘 집사')] ## 3묘 집사 키워드 포함된 행 제거\n",
    "\n",
    "## 문장 마지막에 괄호가 있다면 제거\n",
    "label['answer'] = label['answer'].apply(lambda x: x[:-1] if x.endswith(')') else x)\n",
    "\n",
    "label.answer = label.answer.apply(lambda x: ' '.join([sentence for sentence in x.split(' ') if \"은평동물병원장\" not in sentence])) ## 은평동물병원장 문장 제거\n",
    "label.answer = label.answer.apply(lambda x: ' '.join([sentence for sentence in x.split(' ') if \"인터파크\" not in sentence])) ## 인터파크 문장 제거\n",
    "label.answer = label.answer.apply(lambda x: ' '.join([sentence for sentence in x.split(' ') if \"분양샵\" not in sentence])) ## 분양샵 문장 제거\n",
    "\n",
    "## 라벨이 1개인 경우는 이상한 사진이 올라온 경우가 많아 이런 경우 제거\n",
    "label_counts = label['label'].value_counts()\n",
    "label = label[label['label'].map(label_counts) > 1]\n",
    "\n",
    "## 1개 이상인 경우에 개별 제거\n",
    "label = label[~label.label.str.contains('crossword puzzle')] ## crossword puzzle\n",
    "label = label[~label.label.str.contains('tiger shark')] ## tiger shark\n",
    "label = label[~label.label.str.contains('scoreboard')] ## scoreboard\n",
    "label = label[~label.label.str.contains('soap dispenser')] ## soap dispenser\n",
    "label = label[~label.label.str.contains('Carassius auratus')] ## Carassius auratus\n",
    "label = label[~label.label.str.contains('brassiere')] ## brassiere\n",
    "label = label[~label.label.str.contains('thimble')] ## thimble\n",
    "label = label[~label.label.str.contains('walkingstick')] ## walkingstick\n",
    "label = label[~label.label.str.contains('bird')] ## bird\n",
    "label = label[~label.label.str.contains('jay')] ## jay\n",
    "label = label[~label.label.str.contains('African gray')] ## African gray\n",
    "label = label[~label.label.str.contains('bag')] ## bag\n",
    "label = label[~label.label.str.contains('rule')] ## rule\n",
    "label = label[~label.label.str.contains('frypan')] ## frypan\n",
    "label = label[~label.label.str.contains('honeycomb')] ## honeycomb\n",
    "label = label[~label.label.str.contains('snail')] ## snail\n",
    "label = label[~label.label.str.contains('snake')] ## snake\n",
    "label = label[~label.label.str.contains('plate')] ## plate\n",
    "label = label[~label.label.str.contains('mousetrap')] ## mousetrap\n",
    "label = label[~label.label.str.contains('oil filter')] ## oil filter\n",
    "label = label[~label.label.str.contains('Phalangium opilio')] ## Phalangium opilio\n",
    "label = label[~label.label.str.contains('lacewing fly')] ## lacewing fly\n",
    "label = label[~label.label.str.contains('wallet')] ## wallet\n",
    "label = label[~label.label.str.contains('ballpen')] ## ballpen\n",
    "label = label[~label.label.str.contains('conch')] ## conch\n",
    "label = label[~label.label.str.contains('lollipop')] ## lollipop\n",
    "label = label[~label.label.str.contains('electrical switch')] ## electrical switch\n",
    "label = label[~label.label.str.contains('hook, claw')] ## hook, claw\n",
    "label = label[~label.label.str.contains('emmet')] ## emmet\n",
    "label = label[~label.label.str.contains('oxygen mask')] ## oxygen mask\n",
    "label = label[~label.label.str.contains('plectrum')] ## plectrum\n",
    "label = label[~label.label.str.contains('toilet')] ## toilet\n",
    "label = label[~label.label.str.contains('sunscreen')] ## sunscreen\n",
    "label = label[~label.label.str.contains('carton')] ## carton\n",
    "label = label[~label.label.str.contains('eraser')] ## eraser\n",
    "label = label[~label.label.str.contains('monitor')] ## monitor\n",
    "label = label[~label.label.str.contains('slug')] ## slug\n",
    "label = label[~label.label.str.contains('jellyfish')] ## jellyfish\n",
    "label = label[~label.label.str.contains('CRT screen')] ## CRT screen\n",
    "label = label[~label.label.str.contains('bottle')] ## bottle\n",
    "label = label[~label.label.str.contains('Band Aid')] ## Band Aid\n",
    "label = label[~label.label.str.contains('towel')] ## towel\n",
    "label = label[~label.label.str.contains('packet')] ## packet\n",
    "label = label[~label.label.str.contains('menu')] ## menu\n",
    "label = label[~label.label.str.contains('website')] ## website\n",
    "label = label[~label.label.str.contains('envelope')] ## envelope\n",
    "label = label[~label.label.str.contains('Error')] ## Error\n",
    "\n",
    "## 오타교정\n",
    "label.answer = label.answer.apply(lambda x : x.replace('비요', '비용')) ## 비요 -> 비용\n",
    "label.answer = label.answer.apply(lambda x : x.replace('벼우언', '병원')) ## 벼우언 -> 병원\n",
    "label.answer = label.answer.apply(lambda x : x.replace('가능서', '가능성')) ## 가능서 -> 가능성\n",
    "label.answer = label.answer.apply(lambda x : x.replace('진도개', '진돗개')) ## 진도개 -> 진돗개\n",
    "\n",
    "## 추가 세부 전처리\n",
    "label['answer'] = label['answer'].apply(lambda x: x[:-1] if x.endswith(')') else x) ## 문장 마지막에 괄호가 있다면 제거\n",
    "label = label[label['answer'].str.contains('[가-힣]')] ## 한글이 없는 경우 제거"
   ]
  },
  {
   "cell_type": "code",
   "execution_count": 195,
   "metadata": {},
   "outputs": [],
   "source": [
    "label.to_csv('final_df_0815.csv', index = False, encoding = 'utf-8')"
   ]
  }
 ],
 "metadata": {
  "kernelspec": {
   "display_name": "base",
   "language": "python",
   "name": "python3"
  },
  "language_info": {
   "codemirror_mode": {
    "name": "ipython",
    "version": 3
   },
   "file_extension": ".py",
   "mimetype": "text/x-python",
   "name": "python",
   "nbconvert_exporter": "python",
   "pygments_lexer": "ipython3",
   "version": "3.12.4"
  }
 },
 "nbformat": 4,
 "nbformat_minor": 2
}
